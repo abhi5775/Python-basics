{
 "cells": [
  {
   "cell_type": "code",
   "execution_count": 1,
   "metadata": {},
   "outputs": [],
   "source": [
    "# Controlled structures are the set of codes which allow a particular set of instruction to execute based on condition given \n",
    "#by the user.\n",
    "# 1.Conditional statements\n",
    "# 2.Iterative statements"
   ]
  },
  {
   "cell_type": "markdown",
   "metadata": {},
   "source": [
    "# conditional statements"
   ]
  },
  {
   "cell_type": "code",
   "execution_count": 2,
   "metadata": {},
   "outputs": [],
   "source": [
    "# conditional statements alter the execution of the program by allowing a particular set of codes to run or to not run by based \n",
    "#on the user condition.\n",
    "# There are 3 conditional statements \n",
    "# 1.If\n",
    "# 2.elif\n",
    "# 3.if else\n"
   ]
  },
  {
   "cell_type": "code",
   "execution_count": 9,
   "metadata": {},
   "outputs": [
    {
     "name": "stdout",
     "output_type": "stream",
     "text": [
      "enter your number2\n",
      "the number is two\n",
      "Hello\n"
     ]
    }
   ],
   "source": [
    "#if statements\n",
    "a=int(input(\"enter your number\"))\n",
    "\n",
    "if a==2:\n",
    "    print(\"the number is two\")\n",
    "    print(\"Hello\")"
   ]
  },
  {
   "cell_type": "code",
   "execution_count": 10,
   "metadata": {},
   "outputs": [],
   "source": [
    "# General form of if statements\n",
    "# if condition :\n",
    "#    statement1\n",
    "#    statement2\n",
    "#    statement n\n",
    "# Note:1.the if condition is always followed by a colon\n",
    "# 2.the indent should be followed inorder to bring a set of statement under the if block\n"
   ]
  },
  {
   "cell_type": "code",
   "execution_count": 15,
   "metadata": {},
   "outputs": [
    {
     "name": "stdout",
     "output_type": "stream",
     "text": [
      "enter your number9\n",
      "the number is odd\n"
     ]
    }
   ],
   "source": [
    "# If else statement\n",
    "b=int(input(\"enter your number\"))\n",
    "\n",
    "if b%2==0:\n",
    "    print(\"the number is even\")\n",
    "else :\n",
    "    print(\"the number is odd\")"
   ]
  },
  {
   "cell_type": "code",
   "execution_count": 16,
   "metadata": {},
   "outputs": [],
   "source": [
    "# General form of if else statements\n",
    "# if condition :\n",
    "#    statement1\n",
    "#    statement2\n",
    "#    statement n\n",
    "# else:\n",
    "#    statement1\n",
    "#    statement2\n",
    "#    statement n\n",
    "# Note:1.the if condition is always followed by a colon\n",
    "# 2.the indent should be followed inorder to bring a set of statement under the if block"
   ]
  },
  {
   "cell_type": "code",
   "execution_count": 19,
   "metadata": {},
   "outputs": [
    {
     "name": "stdout",
     "output_type": "stream",
     "text": [
      "enter your number6\n",
      "The number is even\n"
     ]
    }
   ],
   "source": [
    "# elif \n",
    "c=int(input(\"enter your number\"))\n",
    "\n",
    "if c%2==0:\n",
    "    print(\"The number is even\")\n",
    "elif c%3==0:\n",
    "    print(\"The number is odd\")\n",
    "else:\n",
    "    print(\"the number is prime\")"
   ]
  },
  {
   "cell_type": "code",
   "execution_count": 21,
   "metadata": {},
   "outputs": [],
   "source": [
    "# # General form of elif statements\n",
    "# if condition :\n",
    "#    statement1\n",
    "#    statement2\n",
    "#    statement n\n",
    "# elif:\n",
    "#    statement1\n",
    "#    statement2\n",
    "#    statement n\n",
    "# else:\n",
    "#    statement1\n",
    "#    statement2\n",
    "#    statement n\n",
    "# Note:1.the if condition is always followed by a colon\n",
    "# 2.the indent should be followed inorder to bring a set of statement under the if block\n",
    "# 3.for elif the last block should always be else block"
   ]
  },
  {
   "cell_type": "markdown",
   "metadata": {},
   "source": [
    "# iterative statements"
   ]
  },
  {
   "cell_type": "code",
   "execution_count": 22,
   "metadata": {},
   "outputs": [],
   "source": [
    "# Iterative statements are looping statements which continuously keep re-executing a set of codes until the conditions become \n",
    "# false.\n",
    "#1.For loop\n",
    "#2.while loop"
   ]
  },
  {
   "cell_type": "code",
   "execution_count": 24,
   "metadata": {},
   "outputs": [
    {
     "name": "stdout",
     "output_type": "stream",
     "text": [
      "apple\n",
      "banana\n",
      "grape\n",
      "mango\n",
      "orange\n"
     ]
    }
   ],
   "source": [
    "# for loop\n",
    "x=['apple','banana','grape','mango','orange']\n",
    " \n",
    "for i in x:\n",
    "    print(i)"
   ]
  },
  {
   "cell_type": "code",
   "execution_count": 26,
   "metadata": {},
   "outputs": [
    {
     "name": "stdout",
     "output_type": "stream",
     "text": [
      "0\n",
      "1\n",
      "2\n",
      "3\n",
      "4\n",
      "5\n",
      "6\n",
      "7\n",
      "8\n",
      "9\n",
      "10\n",
      "11\n",
      "12\n",
      "13\n",
      "14\n",
      "15\n",
      "16\n",
      "17\n",
      "18\n",
      "19\n"
     ]
    }
   ],
   "source": [
    "for i in range(0,20):\n",
    "    print(i)"
   ]
  },
  {
   "cell_type": "code",
   "execution_count": 27,
   "metadata": {},
   "outputs": [],
   "source": [
    "# general form of loop\n",
    "#for iterating variable in range:\n",
    "#     statement 1\n",
    "#     statement 2\n",
    "#     statement 3"
   ]
  },
  {
   "cell_type": "code",
   "execution_count": 30,
   "metadata": {},
   "outputs": [
    {
     "name": "stdout",
     "output_type": "stream",
     "text": [
      "0\n",
      "1\n",
      "2\n",
      "3\n",
      "4\n",
      "5\n",
      "6\n",
      "7\n",
      "8\n",
      "9\n"
     ]
    }
   ],
   "source": [
    "# while loop \n",
    "i=0\n",
    "while i < 10:\n",
    "    print(i)\n",
    "    i=i+1"
   ]
  },
  {
   "cell_type": "code",
   "execution_count": null,
   "metadata": {},
   "outputs": [],
   "source": [
    "# general form of while loop \n",
    "# while condition:\n",
    "#      statement 1\n",
    "#      statement 2\n",
    "#      statement 3\n",
    "#      counting variable"
   ]
  }
 ],
 "metadata": {
  "kernelspec": {
   "display_name": "Python 3",
   "language": "python",
   "name": "python3"
  },
  "language_info": {
   "codemirror_mode": {
    "name": "ipython",
    "version": 3
   },
   "file_extension": ".py",
   "mimetype": "text/x-python",
   "name": "python",
   "nbconvert_exporter": "python",
   "pygments_lexer": "ipython3",
   "version": "3.7.6"
  }
 },
 "nbformat": 4,
 "nbformat_minor": 4
}
