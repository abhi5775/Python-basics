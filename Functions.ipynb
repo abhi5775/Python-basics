{
 "cells": [
  {
   "cell_type": "code",
   "execution_count": 1,
   "metadata": {},
   "outputs": [],
   "source": [
    "# user defined function are set of codes which perform a series of task which can be used in different parts of the program\n",
    "# creating a user defined function is done in the following format\n",
    "# def function_name(parameters):\n",
    "#      statement 1\n",
    "#      statement 2\n",
    "#      statement n\n",
    "#      return"
   ]
  },
  {
   "cell_type": "code",
   "execution_count": 11,
   "metadata": {},
   "outputs": [],
   "source": [
    "# returning function\n",
    "def sum1(a,b=10):\n",
    "    c=a+b\n",
    "    return c"
   ]
  },
  {
   "cell_type": "code",
   "execution_count": 13,
   "metadata": {},
   "outputs": [
    {
     "data": {
      "text/plain": [
       "5"
      ]
     },
     "execution_count": 13,
     "metadata": {},
     "output_type": "execute_result"
    }
   ],
   "source": [
    "d=sum1(2,3)\n",
    "d"
   ]
  },
  {
   "cell_type": "code",
   "execution_count": 5,
   "metadata": {},
   "outputs": [],
   "source": [
    "# Non-returning function\n",
    "def mul(a,b):\n",
    "    c=a*b\n",
    "    print(c)"
   ]
  },
  {
   "cell_type": "code",
   "execution_count": 14,
   "metadata": {},
   "outputs": [
    {
     "name": "stdout",
     "output_type": "stream",
     "text": [
      "8\n"
     ]
    }
   ],
   "source": [
    "k=mul(2,4)"
   ]
  },
  {
   "cell_type": "code",
   "execution_count": 15,
   "metadata": {},
   "outputs": [],
   "source": [
    "def greet(name,message=\"Good morning\"):\n",
    "    print(name,message)\n",
    "    "
   ]
  },
  {
   "cell_type": "code",
   "execution_count": 24,
   "metadata": {},
   "outputs": [
    {
     "name": "stdout",
     "output_type": "stream",
     "text": [
      "arun Good morning\n"
     ]
    }
   ],
   "source": [
    "greet(\"arun\")"
   ]
  },
  {
   "cell_type": "code",
   "execution_count": 19,
   "metadata": {},
   "outputs": [
    {
     "name": "stdout",
     "output_type": "stream",
     "text": [
      "select option\n",
      "enter 1 for addition\n",
      "enter 2 for multiplication\n",
      "enter 3 for subtraction\n",
      "enter 4 for division\n",
      "enter your choice2\n",
      "enter your first number6\n",
      "enter your second number2\n",
      "product of  6.0  and 2.0  is 12.0\n"
     ]
    }
   ],
   "source": [
    "def add(a,b):\n",
    "    return a+b\n",
    "\n",
    "def multiply(a,b):\n",
    "    return a*b\n",
    "\n",
    "def subtract(a,b):\n",
    "    return a-b\n",
    "\n",
    "def divide(a,b):\n",
    "    return a/b\n",
    "\n",
    "\n",
    "print(\"select option\")\n",
    "print(\"enter 1 for addition\")\n",
    "print(\"enter 2 for multiplication\")\n",
    "print(\"enter 3 for subtraction\")\n",
    "print(\"enter 4 for division\")\n",
    "\n",
    "#taking user input\n",
    "\n",
    "choice=int(input(\"enter your choice\"))\n",
    "\n",
    "num1=float(input(\"enter your first number\"))\n",
    "\n",
    "num2=float(input(\"enter your second number\"))\n",
    "\n",
    "if choice==1:\n",
    "    print(\"addition of \",num1,\" and\",num2,\" is\", add(num1,num2))\n",
    "elif choice==2:\n",
    "    print(\"product of \",num1,\" and\",num2,\" is\", multiply(num1,num2))\n",
    "elif choice==3:\n",
    "    print(\"difference of \",num1,\" and\",num2,\" is\", subtract(num1,num2))\n",
    "elif choice==4:\n",
    "    print(\"division of \",num1,\" and\",num2,\" is\", divide(num1,num2))\n",
    "else:\n",
    "    print(\"invalid choice\")\n",
    "\n"
   ]
  }
 ],
 "metadata": {
  "kernelspec": {
   "display_name": "Python 3",
   "language": "python",
   "name": "python3"
  },
  "language_info": {
   "codemirror_mode": {
    "name": "ipython",
    "version": 3
   },
   "file_extension": ".py",
   "mimetype": "text/x-python",
   "name": "python",
   "nbconvert_exporter": "python",
   "pygments_lexer": "ipython3",
   "version": "3.7.6"
  }
 },
 "nbformat": 4,
 "nbformat_minor": 4
}
